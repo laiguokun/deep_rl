{
 "cells": [
  {
   "cell_type": "code",
   "execution_count": 6,
   "metadata": {
    "collapsed": false
   },
   "outputs": [
    {
     "name": "stderr",
     "output_type": "stream",
     "text": [
      "[2017-04-23 15:38:49,744] Making new env: CartPole-v0\n"
     ]
    },
    {
     "name": "stdout",
     "output_type": "stream",
     "text": [
      "Average total reward: 200.0 (std: 0.0). min: 200.0, max: 200.0\n",
      "Average total reward: 9.34 (std: 4.5082590875). min: 4.0, max: 15.0\n"
     ]
    }
   ],
   "source": [
    "import deeprl_hw3.imitation;\n",
    "import deeprl_hw3.reinforce;\n",
    "import gym\n",
    "from copy import deepcopy ;\n",
    "import tensorflow as tf\n",
    "from keras.models import load_model\n",
    "\n",
    "policy = load_model('policy.h5')\n",
    "\n",
    "\n",
    "with tf.device('/cpu:0'):\n",
    "    env = gym.make('CartPole-v0');\n",
    "    hard_env = deeprl_hw3.imitation.wrap_cartpole(deepcopy(env));\n",
    "    deeprl_hw3.reinforce.get_total_reward(env, policy);\n",
    "    deeprl_hw3.reinforce.get_total_reward(hard_env, policy);"
   ]
  },
  {
   "cell_type": "code",
   "execution_count": null,
   "metadata": {
    "collapsed": true
   },
   "outputs": [],
   "source": []
  }
 ],
 "metadata": {
  "kernelspec": {
   "display_name": "Python 2",
   "language": "python",
   "name": "python2"
  },
  "language_info": {
   "codemirror_mode": {
    "name": "ipython",
    "version": 2
   },
   "file_extension": ".py",
   "mimetype": "text/x-python",
   "name": "python",
   "nbconvert_exporter": "python",
   "pygments_lexer": "ipython2",
   "version": "2.7.12"
  }
 },
 "nbformat": 4,
 "nbformat_minor": 2
}
